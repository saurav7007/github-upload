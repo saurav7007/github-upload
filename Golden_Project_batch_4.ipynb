{
  "nbformat": 4,
  "nbformat_minor": 0,
  "metadata": {
    "colab": {
      "name": "Golden_Project_batch-4.ipynb",
      "provenance": [],
      "collapsed_sections": []
    },
    "kernelspec": {
      "name": "python3",
      "display_name": "Python 3"
    }
  },
  "cells": [
    {
      "cell_type": "markdown",
      "metadata": {
        "id": "eIZLhY286Itl",
        "colab_type": "text"
      },
      "source": [
        "**Golden Project**"
      ]
    },
    {
      "cell_type": "code",
      "metadata": {
        "id": "R3IpuLrP6N8B",
        "colab_type": "code",
        "outputId": "5342b933-6234-4ab1-cf89-b3c4925b9d6e",
        "colab": {
          "base_uri": "https://localhost:8080/",
          "height": 134
        }
      },
      "source": [
        "import math\n",
        "\n",
        "t = int(input(\"Please enter the total number of passengers.\\n It should be from 1 to 105: \"))\n",
        "while 1 > t or 105 < t:\n",
        "    print(\"Please input valid number\")\n",
        "    t = int(input())  # It breaks the loop\n",
        "\n",
        "l1 = []\n",
        "\n",
        "for item in range(0, t):\n",
        "    item = int(input(\"Please enter your seat no.s of from 1 to 108: \"))\n",
        "    while 1 > item or 108 < item:\n",
        "        print(\"Please input valid number\")\n",
        "        item = int(input())\n",
        "    l1.append(item)\n",
        "\n",
        "print(\"Your seat numbers are: \", l1)\n",
        "l2 = l1.copy()\n",
        "\n",
        "for i in l1:\n",
        "    a1 = math.ceil(i / 6)\n",
        "    if a1 % 2 != 0:\n",
        "        a = list(range(6 * (a1 - 1) + 1, 6 * a1 + 1))\n",
        "        b = list(range(6 * a1 + 1, 6 * (a1 + 1) + 1))\n",
        "    else:\n",
        "        a = list(range(6 * (a1 - 1) + 1, 6 * a1 + 1))\n",
        "        b = list(range(6 * (a1 - 2) + 1, 6 * (a1 - 1) + 1))\n",
        "\n",
        "    b.reverse()\n",
        "    for x in a:\n",
        "        if x == l2[0]:\n",
        "            indexA = a.index(x)\n",
        "            oppositeSeat = b[indexA]\n",
        "            break\n",
        "    if indexA == 0 or indexA == 5:\n",
        "        print(\"The seat opposite to seat no. \", l2[0], \" is \", oppositeSeat, \" WS\")\n",
        "    elif indexA == 1 or indexA == 4:\n",
        "        print(\"The seat opposite to seat no. \", l2[0], \" is \", oppositeSeat, \" MS\")\n",
        "    else:\n",
        "        print(\"The seat opposite to seat no. \", l2[0], \" is \", oppositeSeat, \" AS\")\n",
        "    l2.pop(0)"
      ],
      "execution_count": 0,
      "outputs": [
        {
          "output_type": "stream",
          "text": [
            "Please enter the total number of passengers.\n",
            " It should be from 1 to 105: 2\n",
            "Please enter your seat no.s of from 1 to 108: 18\n",
            "Please enter your seat no.s of from 1 to 108: 40\n",
            "Your seat numbers are:  [18, 40]\n",
            "The seat opposite to seat no.  18  is  19  WS\n",
            "The seat opposite to seat no.  40  is  45  AS\n"
          ],
          "name": "stdout"
        }
      ]
    }
  ]
}